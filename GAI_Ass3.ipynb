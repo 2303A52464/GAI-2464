{
  "nbformat": 4,
  "nbformat_minor": 0,
  "metadata": {
    "colab": {
      "provenance": [],
      "toc_visible": true,
      "authorship_tag": "ABX9TyNfH0Dk2LPXHCYdHlvj8y5B",
      "include_colab_link": true
    },
    "kernelspec": {
      "name": "python3",
      "display_name": "Python 3"
    },
    "language_info": {
      "name": "python"
    }
  },
  "cells": [
    {
      "cell_type": "markdown",
      "metadata": {
        "id": "view-in-github",
        "colab_type": "text"
      },
      "source": [
        "<a href=\"https://colab.research.google.com/github/2303A52464/GAI-2464/blob/main/GAI_Ass3.ipynb\" target=\"_parent\"><img src=\"https://colab.research.google.com/assets/colab-badge.svg\" alt=\"Open In Colab\"/></a>"
      ]
    },
    {
      "cell_type": "markdown",
      "source": [
        "**1. (1 ponto) Write Python code without using any libraries to find the value of x at which the\n",
        "function f(x) shown in equation (1) has minimum value. Consider Gradient Descent Algorithm.\n",
        "f (x) = 5x4 + 3x2 + 10**"
      ],
      "metadata": {
        "id": "61E4mvD_TN1r"
      }
    },
    {
      "cell_type": "code",
      "source": [
        "# Function derivative: f'(x) = 20x^3 + 6x\n",
        "def derivative(x):\n",
        "    return 20 * x**3 + 6 * x\n",
        "\n",
        "# Gradient Descent Algorithm\n",
        "def gradient_descent(learning_rate=0.01, max_iters=10, tolerance=1e-6):\n",
        "    x = 2.0 # Initial guess\n",
        "    for _ in range(max_iters):\n",
        "        grad = derivative(x)\n",
        "        new_x = x - learning_rate * grad\n",
        "        if abs(new_x - x) < tolerance:\n",
        "            break\n",
        "        x = new_x\n",
        "    return x\n",
        "\n",
        "# Run gradient descent\n",
        "minimum_x = gradient_descent()\n",
        "print(\"Minimum value of x:\", minimum_x)"
      ],
      "metadata": {
        "colab": {
          "base_uri": "https://localhost:8080/"
        },
        "id": "5pEpNa9KFvZh",
        "outputId": "931c534d-7729-42bf-8fea-c3b5d80706ee"
      },
      "execution_count": null,
      "outputs": [
        {
          "output_type": "stream",
          "name": "stdout",
          "text": [
            "Minimum value of x: 0.1467196794498779\n"
          ]
        }
      ]
    },
    {
      "cell_type": "markdown",
      "source": [
        "**2. (1 ponto) Write Python code without using any libraries to find the value of x and y at which the\n",
        "function g(x,y) shown in equation (2) has minimum value. Consider Gradient Descent Algorithm.\n",
        "f (x) = 3x2 + 5e−y + 10**"
      ],
      "metadata": {
        "id": "TWVC2NPuTTv3"
      }
    },
    {
      "cell_type": "code",
      "source": [
        "# Gradient Descent to find the minimum of g(x, y) = 3x^2 + 5e^(-y) + 10\n",
        "\n",
        "def g(x, y):\n",
        "    return 3 * x*2 + 5 * (2.71828*(-y)) + 10\n",
        "\n",
        "def dg_dx(x):\n",
        "    # Partial derivative of g(x, y) with respect to x: dg/dx = 6x\n",
        "    return 6 * x\n",
        "\n",
        "def dg_dy(y):\n",
        "    # Partial derivative of g(x, y) with respect to y: dg/dy = -5e^(-y)\n",
        "    return -5 * (2.71828**(-y))\n",
        "\n",
        "def gradient_descent_2d(learning_rate, iterations, initial_x, initial_y):\n",
        "    x = initial_x\n",
        "    y = initial_y\n",
        "    for _ in range(iterations):\n",
        "        gradient_x = dg_dx(x)\n",
        "        gradient_y = dg_dy(y)\n",
        "        x -= learning_rate * gradient_x\n",
        "        y -= learning_rate * gradient_y\n",
        "    return x, y\n",
        "\n",
        "# Parameters\n",
        "learning_rate = 0.01\n",
        "iterations = 1000\n",
        "initial_x = 0.5\n",
        "initial_y = 0.5\n",
        "\n",
        "# Find the values of x and y that minimize g(x, y)\n",
        "min_x, min_y = gradient_descent_2d(learning_rate, iterations, initial_x, initial_y)\n",
        "print(f\"The values of x and y that minimize g(x, y) are: x = {min_x}, y = {min_y}\")"
      ],
      "metadata": {
        "colab": {
          "base_uri": "https://localhost:8080/"
        },
        "id": "8q9Y-vgiSb1t",
        "outputId": "f2f37201-5263-4fc6-ac0f-161dd575dffb"
      },
      "execution_count": null,
      "outputs": [
        {
          "output_type": "stream",
          "name": "stdout",
          "text": [
            "The values of x and y that minimize g(x, y) are: x = 6.711561962466847e-28, y = 3.946138890954553\n"
          ]
        }
      ]
    },
    {
      "cell_type": "markdown",
      "source": [
        "**3. (1 ponto) Write Python code without using any libraries to find the value of x at which the\n",
        "sigmoid function z(x) shown in equation (3) has minimum value. Consider Gradient Descent\n",
        "Algorithm.\n",
        "z(x) = 1\n",
        "1 + e−x**"
      ],
      "metadata": {
        "id": "Oui8yiMjTeKs"
      }
    },
    {
      "cell_type": "code",
      "source": [
        "# Gradient Descent to find the minimum of z(x) = 1 / (1 + e^(-x))\n",
        "\n",
        "def z(x):\n",
        "    return 1 / (1 + 2.71828**(-x))\n",
        "\n",
        "def dz_dx(x):\n",
        "    # Derivative of z(x) with respect to x: dz/dx = z(x) * (1 - z(x))\n",
        "    sig = z(x)\n",
        "    return sig * (1 - sig)\n",
        "\n",
        "def gradient_descent(learning_rate, iterations, initial_x):\n",
        "    x = initial_x\n",
        "    for _ in range(iterations):\n",
        "        gradient = dz_dx(x)\n",
        "        x -= learning_rate * gradient\n",
        "    return x\n",
        "\n",
        "# Parameters\n",
        "learning_rate = 0.01\n",
        "iterations = 1000\n",
        "initial_x = 0.5\n",
        "\n",
        "# Find the value of x that minimizes z(x)\n",
        "min_x = gradient_descent(learning_rate, iterations, initial_x)\n",
        "print(f\"The value of x that minimizes z(x) is: {min_x}\")"
      ],
      "metadata": {
        "colab": {
          "base_uri": "https://localhost:8080/"
        },
        "id": "3A3GRd0KSew7",
        "outputId": "924d82bb-3314-4168-946f-9349b1157476"
      },
      "execution_count": null,
      "outputs": [
        {
          "output_type": "stream",
          "name": "stdout",
          "text": [
            "The value of x that minimizes z(x) is: -1.6012961162961212\n"
          ]
        }
      ]
    },
    {
      "cell_type": "markdown",
      "source": [
        "**4. (1 ponto) Write Python code without using any libraries to find the value of optimal values of\n",
        "model parameters M and C such that the model’s Square Error Value shown in equation 4 will\n",
        "be minimum. It means model gives output close to expected output as shown in Figure 1\n",
        "Figura 1: AI Model\n",
        "SE = (ExpectedOutput − P redictedOutput)^2**"
      ],
      "metadata": {
        "id": "eAwlRyRYZH3L"
      }
    },
    {
      "cell_type": "code",
      "source": [
        "import random\n",
        "\n",
        "# Example data\n",
        "data = [\n",
        "    {'ExpectedOutput': 1, 'Input': 0},\n",
        "    {'ExpectedOutput': 2, 'Input': 1},\n",
        "    {'ExpectedOutput': 3, 'Input': 2},\n",
        "    {'ExpectedOutput': 4, 'Input': 3}\n",
        "]\n",
        "\n",
        "# Model parameters\n",
        "M = random.uniform(-1, 1)  # Initial random value for M\n",
        "C = random.uniform(-1, 1)  # Initial random value for C\n",
        "\n",
        "# Hyperparameters\n",
        "learning_rate = 0.01\n",
        "num_iterations = 1000\n",
        "\n",
        "# Square Error Function\n",
        "def calculate_square_error(data, M, C):\n",
        "    square_error = 0\n",
        "    for point in data:\n",
        "        ExpectedOutput = point['ExpectedOutput']\n",
        "        Input = point['Input']\n",
        "        PredictedOutput = M * Input + C\n",
        "        square_error += (ExpectedOutput - PredictedOutput) ** 2\n",
        "    return square_error\n",
        "\n",
        "# Gradient Descent Algorithm\n",
        "for _ in range(num_iterations):\n",
        "    # Calculate gradients\n",
        "    dM = 0\n",
        "    dC = 0\n",
        "    n = len(data)\n",
        "    for point in data:\n",
        "        ExpectedOutput = point['ExpectedOutput']\n",
        "        Input = point['Input']\n",
        "        PredictedOutput = M * Input + C\n",
        "        dM += -2/n * Input * (ExpectedOutput - PredictedOutput)\n",
        "        dC += -2/n * (ExpectedOutput - PredictedOutput)\n",
        "\n",
        "    # Update parameters\n",
        "    M = M - learning_rate * dM\n",
        "    C = C - learning_rate * dC\n",
        "\n",
        "# Final model parameters\n",
        "print(f\"Optimal M: {M}\")\n",
        "print(f\"Optimal C: {C}\")\n",
        "print(f\"Final Square Error: {calculate_square_error(data, M, C)}\")"
      ],
      "metadata": {
        "colab": {
          "base_uri": "https://localhost:8080/"
        },
        "id": "SqS6EiULS0C2",
        "outputId": "fc07b674-966e-4cbf-eb57-abe32ed85c14"
      },
      "execution_count": null,
      "outputs": [
        {
          "output_type": "stream",
          "name": "stdout",
          "text": [
            "Optimal M: 0.9996021144314267\n",
            "Optimal C: 1.0008495022459774\n",
            "Final Square Error: 1.0469410134469946e-06\n"
          ]
        }
      ]
    }
  ]
}